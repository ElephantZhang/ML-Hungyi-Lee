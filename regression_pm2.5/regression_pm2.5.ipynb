{
 "cells": [
  {
   "cell_type": "markdown",
   "metadata": {},
   "source": [
    "每天有18项观测值, 每天的每项观测值有24项. 总共$12\\times20=240$天\n",
    "\n",
    "取每个月最后两天的数据作为测试集合? !还需修改\n",
    "\n",
    "现在取连续的9小时的18项观测值的三次多项式为一个$\\vec x_i$, 其维度再加上一bias为$(9\\times18)*3+1=487$. 对应的系数向量$\\vec w_i$维度也为487.\n",
    "\n",
    "一共有240*24-9=5751笔数据, 姑且先写三次多项式拟合吧.\n",
    "\n",
    "第10个小时的pm2.5值$y_i=\\sum_{i=1}^{487}\\vec x_i\\cdot\\vec w$.\n",
    "\n",
    "Loss function 为$L(\\vec w)=\\sum_{i=1}^{487}(y_i - \\vec w\\cdot\\vec x_i)^2+\\lambda\\|\\vec w\\|^2$"
   ]
  },
  {
   "cell_type": "code",
   "execution_count": 80,
   "metadata": {},
   "outputs": [
    {
     "data": {
      "text/plain": [
       "<function TextIOWrapper.close()>"
      ]
     },
     "execution_count": 80,
     "metadata": {},
     "output_type": "execute_result"
    }
   ],
   "source": [
    "import re\n",
    "import numpy as np\n",
    "import math\n",
    "\n",
    "train_data_path = '/Users/kyoma/Documents/meachineLearning/data/regression_pm2.5/train.csv'\n",
    "f = open(train_data_path, 'r', encoding='big5')\n",
    "data = []\n",
    "for i in range(0, 18):\n",
    "    data.append([])\n",
    "i = 0\n",
    "for line in f.readlines():\n",
    "    j = 0\n",
    "    for word in re.split(',|\\n', line):\n",
    "        if i>0 and j>2:\n",
    "            if word=='':\n",
    "                continue\n",
    "            if word=='NR':\n",
    "                data[(i-1)%18].append(0.0)\n",
    "            else:\n",
    "                data[(i-1)%18].append(float(word))\n",
    "        j = j+1\n",
    "    i = i+1\n",
    "\n",
    "f.close\n"
   ]
  },
  {
   "cell_type": "markdown",
   "metadata": {},
   "source": [
    "先记录一下$y$值, 因为等下要进行缩放了"
   ]
  },
  {
   "cell_type": "code",
   "execution_count": 81,
   "metadata": {},
   "outputs": [],
   "source": [
    "days = 12*20\n",
    "hours = 24\n",
    "y_data = []\n",
    "for i in range(0, days*hours-9):\n",
    "    y_data.append(data[9][i+9]) # 数据集里pm2.5正好在第10项\n",
    "    \n",
    "y_d = np.asarray(y_data)"
   ]
  },
  {
   "cell_type": "markdown",
   "metadata": {},
   "source": [
    "Scaling\n",
    "\n",
    "进行特征缩放, 对每个维度的值计算平均数$m_i$和标准差$\\sigma _i$.\n",
    "\n",
    "$x_i^r\\gets\\frac{x_i^r-m_i}{\\sigma_i}$\n",
    "\n",
    "用第$r$个例子中的第$i$个输入，减掉平均数$m_i$，然后除以标准差$\\sigma_i$，得到的结果是所有的mean是0，所有的方差都是1.\n",
    "\n",
    "$\\sigma = \\sqrt{\\frac{1}{N}\\sum{(x_i-\\mu}))^2}$"
   ]
  },
  {
   "cell_type": "code",
   "execution_count": 82,
   "metadata": {},
   "outputs": [],
   "source": [
    "for i in range(0, len(data[0])):\n",
    "    summ = 0.0\n",
    "    for j in range(0, len(data)):\n",
    "        summ = summ + data[j][i]\n",
    "    m = summ/len(data)\n",
    "    summ = 0.0\n",
    "    for j in range(0, len(data)):\n",
    "        summ = summ + (data[j][i]-m)**2\n",
    "    sigma = math.sqrt(summ/len(data))\n",
    "    for j in range(0, len(data)):\n",
    "        data[j][i] = (data[j][i]-m)/sigma"
   ]
  },
  {
   "cell_type": "markdown",
   "metadata": {},
   "source": [
    "x_d每行为一个$\\vec x_i$"
   ]
  },
  {
   "cell_type": "code",
   "execution_count": 83,
   "metadata": {},
   "outputs": [],
   "source": [
    "x_data = []\n",
    "for i in range(0, days*hours-9): # 枚举起点\n",
    "    x_data.append([])\n",
    "    for j in range(0, 9):\n",
    "        for k in range(0, 18):\n",
    "            x_data[i].append(data[k][i+j])\n",
    "            x_data[i].append(data[k][i+j]**2)\n",
    "            x_data[i].append(data[k][i+j]**3)\n",
    "    x_data[i].append(1) # for bias\n",
    "\n",
    "x_d = np.asarray(x_data)"
   ]
  },
  {
   "cell_type": "markdown",
   "metadata": {},
   "source": [
    "$\\frac{\\partial L}{\\partial \\vec w}=\\sum_{i=1}^{n}-2(y_i - \\vec w\\cdot\\vec x_i)+2\\lambda\\vec w$\n",
    "\n",
    "To update:\n",
    "\n",
    "$\\vec w^{i+1} = w^i - \\eta\\frac{\\partial L}{\\partial \\vec w}$\n",
    "\n",
    "使用Adagrad算法:\n",
    "\n",
    "$\\vec w^{t+1}\\gets w^t -\\frac{\\eta^t}{\\sigma^t}g^t$\n",
    "\n",
    "$g^t=\\frac{\\partial L}{\\partial\\vec w},\\sigma^t$:之前参数的所有微分的均方根"
   ]
  },
  {
   "cell_type": "code",
   "execution_count": 139,
   "metadata": {},
   "outputs": [],
   "source": [
    "w = np.random.rand(len(x_d[0]))*10"
   ]
  },
  {
   "cell_type": "code",
   "execution_count": null,
   "metadata": {},
   "outputs": [],
   "source": [
    "eta = 0.00001\n",
    "lamb = 10\n",
    "sum_w = 0.0\n",
    "iteration = 100000000\n",
    "for i in range(iteration):\n",
    "    loss = 0.0\n",
    "    par_w = 0.0\n",
    "    for j in range(0, len(x_d)):\n",
    "        loss = loss + ( y_d[j] - np.dot(w, x_d[j]) )**2\n",
    "        par_w = par_w -( y_d[j]-np.dot(w, x_d[j]) )\n",
    "\n",
    "    loss = loss + lamb*np.dot(w, w)\n",
    "    par_w = par_w + lamb*w\n",
    "    \n",
    "    sum_w = sum_w + np.dot(par_w, par_w)\n",
    "    sigma = math.sqrt( sum_w/(i+1) )\n",
    "    w = w - eta/sigma*par_w\n",
    "    #w = w - eta*par_w\n",
    "    if i%1000 == 0:\n",
    "        print(sum_w, np.dot(par_w, par_w), loss)"
   ]
  },
  {
   "cell_type": "code",
   "execution_count": null,
   "metadata": {},
   "outputs": [],
   "source": []
  },
  {
   "cell_type": "code",
   "execution_count": null,
   "metadata": {},
   "outputs": [],
   "source": []
  }
 ],
 "metadata": {
  "kernelspec": {
   "display_name": "Python 3",
   "language": "python",
   "name": "python3"
  }
 },
 "nbformat": 4,
 "nbformat_minor": 4
}
